{
 "cells": [
  {
   "cell_type": "code",
   "execution_count": null,
   "metadata": {},
   "outputs": [],
   "source": [
    "%pip install numpy\n",
    "%pip install matplotlib\n",
    "import matplotlib.pyplot as plt\n",
    "import numpy as np  "
   ]
  },
  {
   "cell_type": "code",
   "execution_count": 54,
   "metadata": {},
   "outputs": [],
   "source": [
    "# size of training data, and range of values\n",
    "def get_training_set(s, start_x, end_x):\n",
    "    x = np.arange(start_x, end_x, ((end_x - start_x)/s))\n",
    "    def poly(x):\n",
    "        we = np.zeros(s)\n",
    "        we = 0.2*(x ** 3) - 0.2*(x ** 2) - x\n",
    "        return we\n",
    "\n",
    "    plt.plot(x, np.reshape(poly(x),(s,)))\n",
    "    plt.show()\n",
    "    \n",
    "    return (np.reshape(poly(x), (s,)), x)\n",
    "    "
   ]
  },
  {
   "cell_type": "code",
   "execution_count": null,
   "metadata": {},
   "outputs": [],
   "source": [
    "%pip install tensorflow\n",
    "%pip install scikit-learn"
   ]
  },
  {
   "cell_type": "code",
   "execution_count": 58,
   "metadata": {},
   "outputs": [
    {
     "data": {
      "image/png": "[encoded data removed]",
      "text/plain": [
       "<Figure size 640x480 with 1 Axes>"
      ]
     },
     "metadata": {},
     "output_type": "display_data"
    },
    {
     "name": "stdout",
     "output_type": "stream",
     "text": [
      "Epoch 1/40\n",
      "1000/1000 [==============================] - 1s 489us/step - loss: 0.0183\n",
      "Epoch 2/40\n",
      "1000/1000 [==============================] - 0s 455us/step - loss: 0.0078\n",
      "Epoch 3/40\n",
      "1000/1000 [==============================] - 0s 426us/step - loss: 0.0063\n",
      "Epoch 4/40\n",
      "1000/1000 [==============================] - 0s 423us/step - loss: 0.0054\n",
      "Epoch 5/40\n",
      "1000/1000 [==============================] - 0s 422us/step - loss: 0.0045\n",
      "Epoch 6/40\n",
      "1000/1000 [==============================] - 0s 417us/step - loss: 0.0036\n",
      "Epoch 7/40\n",
      "1000/1000 [==============================] - 0s 401us/step - loss: 0.0028\n",
      "Epoch 8/40\n",
      "1000/1000 [==============================] - 0s 404us/step - loss: 0.0022\n",
      "Epoch 9/40\n",
      "1000/1000 [==============================] - 0s 404us/step - loss: 0.0018\n",
      "Epoch 10/40\n",
      "1000/1000 [==============================] - 0s 404us/step - loss: 0.0016\n",
      "Epoch 11/40\n",
      "1000/1000 [==============================] - 0s 403us/step - loss: 0.0015\n",
      "Epoch 12/40\n",
      "1000/1000 [==============================] - 0s 402us/step - loss: 0.0013\n",
      "Epoch 13/40\n",
      "1000/1000 [==============================] - 0s 405us/step - loss: 0.0012\n",
      "Epoch 14/40\n",
      "1000/1000 [==============================] - 0s 406us/step - loss: 0.0011\n",
      "Epoch 15/40\n",
      "1000/1000 [==============================] - 0s 401us/step - loss: 9.9224e-04\n",
      "Epoch 16/40\n",
      "1000/1000 [==============================] - 0s 398us/step - loss: 8.9193e-04\n",
      "Epoch 17/40\n",
      "1000/1000 [==============================] - 0s 403us/step - loss: 8.0172e-04\n",
      "Epoch 18/40\n",
      "1000/1000 [==============================] - 0s 404us/step - loss: 7.1507e-04\n",
      "Epoch 19/40\n",
      "1000/1000 [==============================] - 0s 416us/step - loss: 6.4615e-04\n",
      "Epoch 20/40\n",
      "1000/1000 [==============================] - 0s 408us/step - loss: 5.7700e-04\n",
      "Epoch 21/40\n",
      "1000/1000 [==============================] - 0s 408us/step - loss: 5.1966e-04\n",
      "Epoch 22/40\n",
      "1000/1000 [==============================] - 0s 405us/step - loss: 4.6355e-04\n",
      "Epoch 23/40\n",
      "1000/1000 [==============================] - 0s 406us/step - loss: 4.1210e-04\n",
      "Epoch 24/40\n",
      "1000/1000 [==============================] - 0s 421us/step - loss: 3.6472e-04\n",
      "Epoch 25/40\n",
      "1000/1000 [==============================] - 0s 404us/step - loss: 3.3216e-04\n",
      "Epoch 26/40\n",
      "1000/1000 [==============================] - 0s 404us/step - loss: 2.9963e-04\n",
      "Epoch 27/40\n",
      "1000/1000 [==============================] - 0s 398us/step - loss: 2.7386e-04\n",
      "Epoch 28/40\n",
      "1000/1000 [==============================] - 0s 415us/step - loss: 2.4723e-04\n",
      "Epoch 29/40\n",
      "1000/1000 [==============================] - 0s 414us/step - loss: 2.3168e-04\n",
      "Epoch 30/40\n",
      "1000/1000 [==============================] - 0s 437us/step - loss: 2.1497e-04\n",
      "Epoch 31/40\n",
      "1000/1000 [==============================] - 0s 486us/step - loss: 2.0323e-04\n",
      "Epoch 32/40\n",
      "1000/1000 [==============================] - 0s 484us/step - loss: 1.9115e-04\n",
      "Epoch 33/40\n",
      "1000/1000 [==============================] - 0s 472us/step - loss: 1.7645e-04\n",
      "Epoch 34/40\n",
      "1000/1000 [==============================] - 0s 439us/step - loss: 1.7029e-04\n",
      "Epoch 35/40\n",
      "1000/1000 [==============================] - 0s 434us/step - loss: 1.6088e-04\n",
      "Epoch 36/40\n",
      "1000/1000 [==============================] - 0s 421us/step - loss: 1.5363e-04\n",
      "Epoch 37/40\n",
      "1000/1000 [==============================] - 0s 446us/step - loss: 1.4573e-04\n",
      "Epoch 38/40\n",
      "1000/1000 [==============================] - 0s 477us/step - loss: 1.3937e-04\n",
      "Epoch 39/40\n",
      "1000/1000 [==============================] - 0s 450us/step - loss: 1.3224e-04\n",
      "Epoch 40/40\n",
      "1000/1000 [==============================] - 0s 440us/step - loss: 1.2597e-04\n"
     ]
    },
    {
     "data": {
      "text/plain": [
       "<keras.src.callbacks.History at 0x2970cde70>"
      ]
     },
     "execution_count": 58,
     "metadata": {},
     "output_type": "execute_result"
    }
   ],
   "source": [
    "import tensorflow as tf\n",
    "from keras.layers import Dense\n",
    "\n",
    "training_data = get_training_set(10000, -5, 5)\n",
    "\n",
    "def normalize_minmax(data):\n",
    "    min_val = np.min(data)\n",
    "    max_val = np.max(data)\n",
    "    return (data - min_val) / (max_val - min_val)\n",
    "    \n",
    "#normalized datasets \n",
    "train_in = normalize_minmax(training_data[1])\n",
    "train_out = normalize_minmax(training_data[0])\n",
    "\n",
    "model = tf.keras.models.Sequential()\n",
    "  \n",
    "model.add(Dense(3, input_dim=1, activation='tanh', kernel_initializer='he_uniform'))\n",
    "model.add(Dense(1))\n",
    "\n",
    "model.compile(loss='mse', optimizer='adam')\n",
    "\n",
    "model.fit(train_in, train_out, epochs=40, batch_size=10, verbose=1)"
   ]
  },
  {
   "cell_type": "code",
   "execution_count": 59,
   "metadata": {},
   "outputs": [
    {
     "name": "stdout",
     "output_type": "stream",
     "text": [
      "4/4 [==============================] - 0s 751us/step\n"
     ]
    },
    {
     "data": {
      "image/png": "[encoded data removed]",
      "text/plain": [
       "<Figure size 640x480 with 1 Axes>"
      ]
     },
     "metadata": {},
     "output_type": "display_data"
    }
   ],
   "source": [
    "X_new = np.arange(0, 1, 1/100)\n",
    "Y_pred = model.predict(X_new)\n",
    "\n",
    "plt.plot(X_new, Y_pred, color='red')\n",
    "plt.show()"
   ]
  }
 ],
 "metadata": {
  "kernelspec": {
   "display_name": "Python 3.10.13 64-bit",
   "language": "python",
   "name": "python3"
  },
  "language_info": {
   "codemirror_mode": {
    "name": "ipython",
    "version": 3
   },
   "file_extension": ".py",
   "mimetype": "text/x-python",
   "name": "python",
   "nbconvert_exporter": "python",
   "pygments_lexer": "ipython3",
   "version": "3.10.13"
  },
  "orig_nbformat": 4,
  "vscode": {
   "interpreter": {
    "hash": "bd385fe162c5ca0c84973b7dd5c518456272446b2b64e67c2a69f949ca7a1754"
   }
  }
 },
 "nbformat": 4,
 "nbformat_minor": 2
}
